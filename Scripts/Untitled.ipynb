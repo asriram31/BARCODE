{
 "cells": [
  {
   "cell_type": "code",
   "execution_count": 1,
   "id": "d2a06b67-0d14-495b-91ef-882b4bb87a8b",
   "metadata": {},
   "outputs": [],
   "source": [
    "from reader import read_file\n",
    "import numpy as np\n",
    "import matplotlib.pyplot as plt"
   ]
  },
  {
   "cell_type": "code",
   "execution_count": 11,
   "id": "9c351b97-f25f-4bf7-aa44-dbe248a50753",
   "metadata": {},
   "outputs": [
    {
     "name": "stdout",
     "output_type": "stream",
     "text": [
      "../../../../../Volumes/Hack2024D/To Be Tested/012324/1-3AMT+ASE1+kinesinafter15min(3minvid).nd2\n"
     ]
    }
   ],
   "source": [
    "filepath = '../../../../../Volumes/Hack2024D/To Be Tested/012324/1-3AMT+ASE1+kinesinafter15min(3minvid).nd2'\n",
    "file = read_file(filepath)\n",
    "\n",
    "def check_channel_dim(image):\n",
    "    min_intensity = np.min(image[0])\n",
    "    mean_intensity = np.mean(image[0])\n",
    "    return 2 * np.exp(-1) * mean_intensity <= min_intensity"
   ]
  },
  {
   "cell_type": "code",
   "execution_count": 14,
   "id": "63e18f44-88f5-4104-bf41-84d40d2d3382",
   "metadata": {},
   "outputs": [],
   "source": [
    "c0 = file[:,:,:,0]\n",
    "c1 = file[:,:,:,1]\n",
    "c2 = file[:,:,:,2]\n",
    "c3 = file[:,:,:,3]"
   ]
  },
  {
   "cell_type": "code",
   "execution_count": 25,
   "id": "cb1f2cf8-65cf-48a4-8aed-a289fe95187d",
   "metadata": {},
   "outputs": [
    {
     "name": "stdout",
     "output_type": "stream",
     "text": [
      "0\n",
      "mean: 260.608630611783 ; min: 117.0\n",
      "105.66132555371762 0.0\n",
      "1\n",
      "mean: 204.0951624597822 ; min: 157.0\n",
      "34.65068409516593 0.0\n",
      "2\n",
      "mean: 256.1766093799046 ; min: 169.0\n",
      "64.14096468380085 0.0\n",
      "3\n",
      "mean: 192.49693366459437 ; min: 133.0\n",
      "43.77539741589071 0.0\n"
     ]
    }
   ],
   "source": [
    "for i, c in enumerate([c0, c1, c2, c3]):\n",
    "    print(i)\n",
    "    print('mean:', np.mean(c), '; min:', np.min(c))\n",
    "    c = c - np.min(c)\n",
    "    print(2 * np.exp(-1) * np.mean(c), np.min(c))\n",
    "    # print((c < 65025).all() and (c >= 0).all())\n",
    "    # print(c.max())"
   ]
  },
  {
   "cell_type": "code",
   "execution_count": 8,
   "id": "cc19b0bd-3de3-4d01-8c8e-e2b44ef025b1",
   "metadata": {},
   "outputs": [
    {
     "data": {
      "text/plain": [
       "117.0"
      ]
     },
     "execution_count": 8,
     "metadata": {},
     "output_type": "execute_result"
    }
   ],
   "source": [
    "np.min(c0)"
   ]
  },
  {
   "cell_type": "code",
   "execution_count": 10,
   "id": "7fcd02ef-708f-400a-8b10-6e45adadc6a6",
   "metadata": {},
   "outputs": [
    {
     "data": {
      "text/plain": [
       "False"
      ]
     },
     "execution_count": 10,
     "metadata": {},
     "output_type": "execute_result"
    }
   ],
   "source": [
    "check_channel_dim(c0)"
   ]
  },
  {
   "cell_type": "code",
   "execution_count": 33,
   "id": "200aba22-3390-4fa1-99bd-e3d8b3c795b1",
   "metadata": {},
   "outputs": [
    {
     "name": "stdout",
     "output_type": "stream",
     "text": [
      "True\n"
     ]
    }
   ],
   "source": [
    "a = np.array([])\n",
    "for i in range(20):\n",
    "    a = np.append(a, np.ceil(1 * 10 ** (-i)))\n",
    "\n",
    "print((a == 1).all())"
   ]
  },
  {
   "cell_type": "code",
   "execution_count": 18,
   "id": "3159f01e-807f-42bc-b2cf-901edfc2640c",
   "metadata": {},
   "outputs": [
    {
     "name": "stdout",
     "output_type": "stream",
     "text": [
      "[[], [], [], [], []]\n",
      "[[1, 2, 3, 4, 5], [1, 2, 3, 4, 5], [1, 2, 3, 4, 5], [1, 2, 3, 4, 5], [1, 2, 3, 4, 5]]\n"
     ]
    }
   ],
   "source": [
    "list = [[] for _ in range(5)]\n",
    "print(list)\n",
    "for i in range(len(list)):\n",
    "    list[i] = [1, 2, 3, 4, 5]\n",
    "\n",
    "print(list)"
   ]
  },
  {
   "cell_type": "code",
   "execution_count": 20,
   "id": "1c42378d-6019-474f-af29-477bbe6d111f",
   "metadata": {},
   "outputs": [
    {
     "data": {
      "text/plain": [
       "([1, 1, 1, 1, 1], [1, 2, 3, 4, 5])"
      ]
     },
     "execution_count": 20,
     "metadata": {},
     "output_type": "execute_result"
    }
   ],
   "source": [
    "[lst[0] for lst in list], list[0]"
   ]
  }
 ],
 "metadata": {
  "kernelspec": {
   "display_name": "Python 3 (ipykernel)",
   "language": "python",
   "name": "python3"
  },
  "language_info": {
   "codemirror_mode": {
    "name": "ipython",
    "version": 3
   },
   "file_extension": ".py",
   "mimetype": "text/x-python",
   "name": "python",
   "nbconvert_exporter": "python",
   "pygments_lexer": "ipython3",
   "version": "3.12.4"
  }
 },
 "nbformat": 4,
 "nbformat_minor": 5
}
