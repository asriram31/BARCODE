{
 "cells": [
  {
   "cell_type": "code",
   "execution_count": 1,
   "id": "a0681a69-e310-48e6-bf7e-46c5fb0b1a50",
   "metadata": {},
   "outputs": [],
   "source": [
    "import os, shutil"
   ]
  },
  {
   "cell_type": "code",
   "execution_count": 2,
   "id": "a1becea3-59a0-4334-b3b8-13aa22ec91b5",
   "metadata": {},
   "outputs": [],
   "source": [
    "filelist = [\n",
    "# '120523 (1)/+HGs/MTXL0.32hydrogelafter30min001.nd2',\n",
    "# '102523/55min.nd2',\n",
    "# '51524/ 45min.nd2',\n",
    "# '32024/40min.nd2',\n",
    "'012324/1-3AMT+ASE1+kinesinafter15min(3minvid).nd2',\n",
    " '42924/@20x MT only ASE1 + 0.2uMK after 35min (5min vid)002.nd2',\n",
    "'021224/+ASE1/ASE1+kinesin20minsafter(5minvid)002.nd2'\n",
    "]\n"
   ]
  },
  {
   "cell_type": "code",
   "execution_count": 3,
   "id": "c93a9379-37ce-4537-a679-22dd58f4d9a1",
   "metadata": {},
   "outputs": [
    {
     "data": {
      "text/plain": [
       "['../../../../../Volumes/Hack2024D/012324/1-3AMT+ASE1+kinesinafter15min(3minvid).nd2',\n",
       " '../../../../../Volumes/Hack2024D/42924/@20x MT only ASE1 + 0.2uMK after 35min (5min vid)002.nd2',\n",
       " '../../../../../Volumes/Hack2024D/021224/+ASE1/ASE1+kinesin20minsafter(5minvid)002.nd2']"
      ]
     },
     "execution_count": 3,
     "metadata": {},
     "output_type": "execute_result"
    }
   ],
   "source": [
    "dir_path = '../../../../../Volumes/Hack2024D'\n",
    "\n",
    "for i in range(len(filelist)):\n",
    "    filelist[i] = os.path.join(dir_path, filelist[i])\n",
    "    # print(filelist[i])\n",
    "\n",
    "filelist"
   ]
  },
  {
   "cell_type": "code",
   "execution_count": 4,
   "id": "187db41a-70e1-4cd7-8bbd-dd5118b58710",
   "metadata": {},
   "outputs": [],
   "source": [
    "def cp_parents(volume, target_subdir, files):\n",
    "    target_dir = os.path.join(volume, target_subdir)\n",
    "    \n",
    "    # Normalize volume path to ensure it ends with a separator\n",
    "    volume = os.path.normpath(volume) + os.sep\n",
    "\n",
    "    for file in files:\n",
    "        # Ensure the file path is relative to the volume root\n",
    "        if not file.startswith(volume):\n",
    "            raise ValueError(f\"File {file} is not within the volume {volume}\")\n",
    "        \n",
    "        # Remove the volume part from the file path\n",
    "        relative_path = os.path.relpath(file, volume)\n",
    "        \n",
    "        # Construct the target file path\n",
    "        dest = os.path.join(target_dir, relative_path)\n",
    "\n",
    "        # Ensure the directory exists\n",
    "        dest_dir = os.path.dirname(dest)\n",
    "        if not os.path.exists(dest_dir):\n",
    "            print(\"Creating\", dest_dir)\n",
    "            os.makedirs(dest_dir)\n",
    "        \n",
    "        # Copy the file\n",
    "        print(\"Copying %s to %s\" % (file, dest))\n",
    "        shutil.copy(file, dest)"
   ]
  },
  {
   "cell_type": "code",
   "execution_count": 5,
   "id": "bb1e8adf-a04c-498e-ba48-c601fe14f978",
   "metadata": {},
   "outputs": [
    {
     "name": "stdout",
     "output_type": "stream",
     "text": [
      "Copying ../../../../../Volumes/Hack2024D/012324/1-3AMT+ASE1+kinesinafter15min(3minvid).nd2 to ../../../../../Volumes/Hack2024D/To Be Tested/012324/1-3AMT+ASE1+kinesinafter15min(3minvid).nd2\n",
      "Copying ../../../../../Volumes/Hack2024D/42924/@20x MT only ASE1 + 0.2uMK after 35min (5min vid)002.nd2 to ../../../../../Volumes/Hack2024D/To Be Tested/42924/@20x MT only ASE1 + 0.2uMK after 35min (5min vid)002.nd2\n",
      "Copying ../../../../../Volumes/Hack2024D/021224/+ASE1/ASE1+kinesin20minsafter(5minvid)002.nd2 to ../../../../../Volumes/Hack2024D/To Be Tested/021224/+ASE1/ASE1+kinesin20minsafter(5minvid)002.nd2\n"
     ]
    }
   ],
   "source": [
    "target_dir = 'To Be Tested'\n",
    "cp_parents(dir_path, target_dir, filelist)"
   ]
  },
  {
   "cell_type": "code",
   "execution_count": null,
   "id": "d04dc556-4ae8-4f43-bce0-e5d5aed90b61",
   "metadata": {},
   "outputs": [],
   "source": []
  }
 ],
 "metadata": {
  "kernelspec": {
   "display_name": "Python 3 (ipykernel)",
   "language": "python",
   "name": "python3"
  },
  "language_info": {
   "codemirror_mode": {
    "name": "ipython",
    "version": 3
   },
   "file_extension": ".py",
   "mimetype": "text/x-python",
   "name": "python",
   "nbconvert_exporter": "python",
   "pygments_lexer": "ipython3",
   "version": "3.12.3"
  }
 },
 "nbformat": 4,
 "nbformat_minor": 5
}
