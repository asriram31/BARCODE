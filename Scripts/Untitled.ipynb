{
 "cells": [
  {
   "cell_type": "code",
   "execution_count": 20,
   "id": "7de5f829-2fb9-4df1-a87a-12ae5fe534db",
   "metadata": {},
   "outputs": [],
   "source": [
    "from reader import read_file\n",
    "import numpy as np\n",
    "import matplotlib.pyplot as plt\n",
    "import imageio.v3 as iio\n",
    "from nd2reader import ND2Reader\n",
    "import math, pims, yaml, gc, csv, os, glob, pickle\n",
    "\n",
    "import numpy as np\n",
    "from numpy.polynomial import Polynomial\n",
    "\n",
    "from skimage import measure, io\n",
    "from skimage.measure import label, regionprops\n",
    "\n",
    "from scipy import ndimage\n",
    "\n",
    "def check_span(image, R_thresh):\n",
    "    \n",
    "    def binarize(frame, offset_threshold):\n",
    "        avg_intensity = np.mean(frame)\n",
    "        threshold = avg_intensity * (1 + offset_threshold)\n",
    "        new_frame = np.where(frame < threshold, 0, 1)\n",
    "        return new_frame\n",
    "    \n",
    "    def check_connected(frame, axis=0):\n",
    "        # Ensures that either \n",
    "        if axis == 0:\n",
    "            first = (frame[0] == 1).any()\n",
    "            last = (frame[len(frame) - 1] == 1).any()\n",
    "        elif axis == 1:\n",
    "            first = (frame[:,0] == 1).any()\n",
    "            last = (frame[:,len(frame[:]) - 1] == 1).any()\n",
    "        else:\n",
    "            raise Exception(\"Axis must be 0 or 1.\")\n",
    "    \n",
    "        struct = ndimage.generate_binary_structure(2, 2)\n",
    "    \n",
    "        frame_connections, num_features = ndimage.label(input=frame, structure=struct)\n",
    "    \n",
    "        if axis == 0:\n",
    "            labeled_first = np.unique(frame_connections[0,:])\n",
    "            labeled_last = np.unique(frame_connections[-1,:])\n",
    "    \n",
    "        if axis == 1:\n",
    "            labeled_first = np.unique(frame_connections[:,0])\n",
    "            labeled_last = np.unique(frame_connections[:,-1])\n",
    "    \n",
    "        labeled_first = set(labeled_first[labeled_first != 0])\n",
    "        labeled_last = set(labeled_last[labeled_last != 0])\n",
    "    \n",
    "        if labeled_first.intersection(labeled_last):\n",
    "            return 1\n",
    "        else:\n",
    "            return 0\n",
    "        \n",
    "        \n",
    "    first_frame = binarize(image[0], R_thresh)\n",
    "    last_frame = binarize(image[-1], R_thresh)\n",
    "    return (check_connected(first_frame) and check_connected(last_frame)) or (check_connected(first_frame, axis = 1) and check_connected(last_frame, axis = 1))\n",
    "\n",
    "def track_void(image, threshold, step):\n",
    "    def binarize(frame, offset_threshold):\n",
    "        avg_intensity = np.mean(frame)\n",
    "        threshold = avg_intensity * (1 + offset_threshold)\n",
    "        new_frame = np.where(frame < threshold, 0, 1)\n",
    "        return new_frame\n",
    "        \n",
    "    def find_largest_void(frame, find_void = True):      \n",
    "        if find_void:\n",
    "            frame = np.invert(frame)\n",
    "        labeled, a = label(frame, connectivity= 2, return_num =True) # identify the regions of connectivity 2\n",
    "        regions = regionprops(labeled) # determines the region properties of the labeled\n",
    "        largest_region = max(regions, key = lambda r: r.area) # determines the region with the maximum area\n",
    "        return largest_region.area # returns largest region area\n",
    "\n",
    "    def largest_island_position(frame):      \n",
    "        labeled, a = label(frame, connectivity = 2, return_num =True) # identify the regions of connectivity 2\n",
    "        regions = regionprops(labeled) # determines the region properties of the labeled\n",
    "        largest_region = max(regions, key = lambda r: r.area) # determines the region with the maximum area\n",
    "        return largest_region.centroid # returns largest region area\n",
    "    \n",
    "    def find_largest_void_regions(frame):\n",
    "        return max(find_largest_void_mid(frame, find_void = True), find_largest_void_mid(frame, find_void = False))\n",
    "    \n",
    "    void_lst = []\n",
    "    island_area_lst = []\n",
    "    island_position_lst = []\n",
    "    \n",
    "    for i in range(0, len(image), step):\n",
    "        new_frame = binarize(image[i], threshold)\n",
    "        void_area = find_largest_void(new_frame)\n",
    "        island_area = find_largest_void(new_frame, find_void = False)\n",
    "        island_position = largest_island_position(new_frame)\n",
    "        void_lst.append(void_area)\n",
    "        island_area_lst.append(island_area)\n",
    "        island_position_lst.append(island_position)\n",
    "    return void_lst, island_area_lst, island_position_lst\n",
    "\n",
    "def check_resilience(file, channel, R_offset, percent_threshold_loss, percent_threshold_gain, frame_step, frame_start_percent, frame_stop_percent):\n",
    "    #Note for parameters: frame_step (stepsize) used to reduce the runtime. \n",
    "    image = file[:,:,:,channel]\n",
    "    frame_initial_percent = 0.05\n",
    "\n",
    "    fig, ax = plt.subplots(figsize = (5,5))\n",
    "\n",
    "    # Error Checking: Empty Image\n",
    "    if (image == 0).all():\n",
    "        verdict = \"Data not available for this channel.\"\n",
    "        return verdict, fig\n",
    "    \n",
    "    largest_void_lst, island_area_lst, island_position_lst = track_void(image, R_offset, frame_step)\n",
    "    start_index = int(len(largest_void_lst) * frame_start_percent)\n",
    "    stop_index = int(len(largest_void_lst) * frame_stop_percent)\n",
    "    start_initial_index = int(len(largest_void_lst)*frame_initial_percent)\n",
    "\n",
    "    percent_gain_initial_list = np.mean(largest_void_lst[0:start_initial_index])\n",
    "    percent_gain_list = np.array(largest_void_lst)/percent_gain_initial_list\n",
    "    \n",
    "    ax.plot(np.arange(start_index, stop_index), percent_gain_list[start_index:stop_index])\n",
    "    ax.set_xlabel(\"Frames\")\n",
    "    ax.set_ylabel(\"Proportion of orginal void size\")\n",
    "    #Calculate\n",
    "    \n",
    "    avg_percent_change = np.mean(largest_void_lst[start_index:stop_index])/percent_gain_initial_list\n",
    "    max_void_size = max(largest_void_lst)/(len(image[0,0,:])*len(image[0,:,0]))\n",
    "    island_size = max(island_area_lst)/(len(image[0,0,:])*len(image[0,:,0]))\n",
    "    island_movement = np.array(island_position_lst[0]) - np.array(island_position_lst[-1])\n",
    "    print(len(island_position_lst))\n",
    "    print(island_movement.shape)\n",
    "    print(island_movement)\n",
    "    island_speed = np.linalg.norm(island_movement)\n",
    "    island_direction = np.arctan2(island_movement[1],island_movement[0])\n",
    "    island_direction = island_direction[np.where(island_speed < 15)]\n",
    "    average_direction = np.average(island_direction)\n",
    "    #Give judgement\n",
    "    if avg_percent_change >= percent_threshold_loss and avg_percent_change <= percent_threshold_gain or max_void_size < 0.10:\n",
    "        verdict = 1\n",
    "    else:\n",
    "        verdict = 0\n",
    "    \n",
    "    spanning = check_span(image, R_offset)\n",
    "    \n",
    "    return verdict, fig, max_void_size, spanning, island_size, average_direction, avg_percent_change"
   ]
  },
  {
   "cell_type": "code",
   "execution_count": 11,
   "id": "26648d5c-f8c6-4d68-84a6-f2aa9ce423bc",
   "metadata": {},
   "outputs": [
    {
     "data": {
      "text/plain": [
       "(560, 512, 512, 3)"
      ]
     },
     "execution_count": 11,
     "metadata": {},
     "output_type": "execute_result"
    }
   ],
   "source": [
    "filepath = '../../../../../Volumes/Hack2024D/102523/55min.nd2'\n",
    "file = read_file(filepath)\n",
    "file.shape"
   ]
  },
  {
   "cell_type": "code",
   "execution_count": 21,
   "id": "e94d0c46-f0b4-4f18-adad-38f6e0b79424",
   "metadata": {},
   "outputs": [
    {
     "name": "stdout",
     "output_type": "stream",
     "text": [
      "56\n",
      "(2,)\n",
      "[268.67622429  44.25365174]\n"
     ]
    },
    {
     "name": "stderr",
     "output_type": "stream",
     "text": [
      "/var/folders/2z/sb0dct2j3vb07sbc2nsfjyfh0000gp/T/ipykernel_18391/2482303461.py:132: DeprecationWarning: Calling nonzero on 0d arrays is deprecated, as it behaves surprisingly. Use `atleast_1d(cond).nonzero()` if the old behavior was intended. If the context of this warning is of the form `arr[nonzero(cond)]`, just use `arr[cond]`.\n",
      "  island_direction = island_direction[np.where(island_speed < 15)]\n"
     ]
    },
    {
     "ename": "IndexError",
     "evalue": "invalid index to scalar variable.",
     "output_type": "error",
     "traceback": [
      "\u001b[0;31m---------------------------------------------------------------------------\u001b[0m",
      "\u001b[0;31mIndexError\u001b[0m                                Traceback (most recent call last)",
      "Cell \u001b[0;32mIn[21], line 1\u001b[0m\n\u001b[0;32m----> 1\u001b[0m v, f, m, s, i, ad, apc \u001b[38;5;241m=\u001b[39m \u001b[43mcheck_resilience\u001b[49m\u001b[43m(\u001b[49m\u001b[43mfile\u001b[49m\u001b[43m,\u001b[49m\u001b[43m \u001b[49m\u001b[38;5;241;43m0\u001b[39;49m\u001b[43m,\u001b[49m\u001b[43m \u001b[49m\u001b[38;5;241;43m0\u001b[39;49m\u001b[43m,\u001b[49m\u001b[43m \u001b[49m\u001b[38;5;241;43m0.9\u001b[39;49m\u001b[43m,\u001b[49m\u001b[43m \u001b[49m\u001b[38;5;241;43m1.1\u001b[39;49m\u001b[43m,\u001b[49m\u001b[43m \u001b[49m\u001b[38;5;241;43m10\u001b[39;49m\u001b[43m,\u001b[49m\u001b[43m \u001b[49m\u001b[38;5;241;43m0.9\u001b[39;49m\u001b[43m,\u001b[49m\u001b[43m \u001b[49m\u001b[38;5;241;43m1\u001b[39;49m\u001b[43m)\u001b[49m\n",
      "Cell \u001b[0;32mIn[20], line 132\u001b[0m, in \u001b[0;36mcheck_resilience\u001b[0;34m(file, channel, R_offset, percent_threshold_loss, percent_threshold_gain, frame_step, frame_start_percent, frame_stop_percent)\u001b[0m\n\u001b[1;32m    130\u001b[0m island_speed \u001b[38;5;241m=\u001b[39m np\u001b[38;5;241m.\u001b[39mlinalg\u001b[38;5;241m.\u001b[39mnorm(island_movement)\n\u001b[1;32m    131\u001b[0m island_direction \u001b[38;5;241m=\u001b[39m np\u001b[38;5;241m.\u001b[39marctan2(island_movement[\u001b[38;5;241m1\u001b[39m],island_movement[\u001b[38;5;241m0\u001b[39m])\n\u001b[0;32m--> 132\u001b[0m island_direction \u001b[38;5;241m=\u001b[39m \u001b[43misland_direction\u001b[49m\u001b[43m[\u001b[49m\u001b[43mnp\u001b[49m\u001b[38;5;241;43m.\u001b[39;49m\u001b[43mwhere\u001b[49m\u001b[43m(\u001b[49m\u001b[43misland_speed\u001b[49m\u001b[43m \u001b[49m\u001b[38;5;241;43m<\u001b[39;49m\u001b[43m \u001b[49m\u001b[38;5;241;43m15\u001b[39;49m\u001b[43m)\u001b[49m\u001b[43m]\u001b[49m\n\u001b[1;32m    133\u001b[0m average_direction \u001b[38;5;241m=\u001b[39m np\u001b[38;5;241m.\u001b[39maverage(island_direction)\n\u001b[1;32m    134\u001b[0m \u001b[38;5;66;03m#Give judgement\u001b[39;00m\n",
      "\u001b[0;31mIndexError\u001b[0m: invalid index to scalar variable."
     ]
    },
    {
     "data": {
      "image/png": "[encoded data removed]",
      "text/plain": [
       "<Figure size 500x500 with 1 Axes>"
      ]
     },
     "metadata": {},
     "output_type": "display_data"
    }
   ],
   "source": [
    "v, f, m, s, i, ad, apc = check_resilience(file, 0, 0, 0.9, 1.1, 10, 0.9, 1)"
   ]
  },
  {
   "cell_type": "code",
   "execution_count": 12,
   "id": "31e910c1-401d-435a-bfbe-a034c447f349",
   "metadata": {},
   "outputs": [
    {
     "data": {
      "image/png": "[encoded data removed]",
      "text/plain": [
       "<Figure size 640x480 with 1 Axes>"
      ]
     },
     "metadata": {},
     "output_type": "display_data"
    }
   ],
   "source": [
    "import numpy as np\n",
    "import matplotlib.pyplot as plt\n",
    "import matplotlib.colors as mcolors\n",
    "\n",
    "def create_color_barcode(data):\n",
    "    # Define color mappings\n",
    "    binary_colors = {0: [0, 0, 0], 1: [1, 1, 1]}  # Black for 0, white for 1\n",
    "    colormap = plt.get_cmap('viridis')  # Colormap for floats\n",
    "\n",
    "    # Normalize float values to be between 0 and 1\n",
    "    float_values = [x for x in data if isinstance(x, float)]\n",
    "    min_float, max_float = min(float_values), max(float_values)\n",
    "    \n",
    "    def normalize(x):\n",
    "        return (x - min_float) / (max_float - min_float)\n",
    "\n",
    "    # Create the color barcode\n",
    "    barcode = []\n",
    "    for value in data:\n",
    "        if isinstance(value, int):\n",
    "            color = binary_colors[value]\n",
    "        elif isinstance(value, float):\n",
    "            color = colormap(normalize(value))[:3]  # Exclude the alpha channel\n",
    "        barcode.append(color)\n",
    "    \n",
    "    # Convert to numpy array and reshape for plotting\n",
    "    barcode = np.array(barcode)\n",
    "    barcode_image = np.tile(barcode, (1, 1, 1))  # Repeat the barcode to make it visible\n",
    "\n",
    "    # Plot and save the barcode\n",
    "    plt.imshow(barcode_image, aspect='auto')\n",
    "    plt.axis('off')\n",
    "    # plt.savefig('color_barcode.png', bbox_inches='tight', pad_inches=0)\n",
    "\n",
    "# Example usage\n",
    "data = [0, 1, 0.5, 0.2, 1, 0.8, 0, 0.9]\n",
    "create_color_barcode(data)\n"
   ]
  },
  {
   "cell_type": "code",
   "execution_count": null,
   "id": "ae357440-8613-4341-bad4-9555a50abe25",
   "metadata": {},
   "outputs": [],
   "source": []
  }
 ],
 "metadata": {
  "kernelspec": {
   "display_name": "Python 3 (ipykernel)",
   "language": "python",
   "name": "python3"
  },
  "language_info": {
   "codemirror_mode": {
    "name": "ipython",
    "version": 3
   },
   "file_extension": ".py",
   "mimetype": "text/x-python",
   "name": "python",
   "nbconvert_exporter": "python",
   "pygments_lexer": "ipython3",
   "version": "3.12.3"
  }
 },
 "nbformat": 4,
 "nbformat_minor": 5
}
