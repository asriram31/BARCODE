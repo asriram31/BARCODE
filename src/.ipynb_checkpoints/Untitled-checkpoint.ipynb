{
 "cells": [
  {
   "cell_type": "code",
   "execution_count": 1,
   "id": "a71ebedd-b6ff-4b20-8207-8ba9d2a7c003",
   "metadata": {},
   "outputs": [],
   "source": [
    "from reader import read_file"
   ]
  },
  {
   "cell_type": "code",
   "execution_count": 8,
   "id": "02758347-2959-4574-aae6-bdd4a012f99f",
   "metadata": {},
   "outputs": [],
   "source": [
    "import numpy as np\n",
    "import matplotlib.pyplot as plt\n",
    "import imageio.v3 as iio\n",
    "# from numpy.polynomial import Polynomial, polyroots\n",
    "from nd2reader import ND2Reader\n",
    "from scipy.interpolate import splrep, sproot, BSpline\n",
    "import scipy, csv, os, functools, builtins\n",
    "from scipy.stats import mode, skew, kurtosis\n",
    "import scipy.signal as signal\n",
    "\n",
    "def calculate_mean_mode(frame):\n",
    "    mean_intensity = np.mean(frame)\n",
    "    mode_result = mode(frame.flatten(), keepdims=False)\n",
    "    mode_intensity = mode_result.mode if isinstance(mode_result.mode, np.ndarray) else np.array([mode_result.mode])\n",
    "    mode_intensity = mode_intensity[0] if mode_intensity.size > 0 else np.nan\n",
    "    return mean_intensity, mode_intensity\n",
    "\n",
    "def analyze_frames(name, video, frames_percent, save_intermediates):\n",
    "    num_frames = video.shape[0]\n",
    "    num_frames_analysis = int(np.ceil(frames_percent * num_frames))\n",
    "    def get_mean_mode_diffs(frames):\n",
    "        diffs = []\n",
    "        means = []\n",
    "        modes = []\n",
    "            \n",
    "        for frame in frames:\n",
    "            mean_intensity, mode_intensity = calculate_mean_mode(frame)\n",
    "            diffs.append(mean_intensity - mode_intensity)\n",
    "            means.append(mean_intensity)\n",
    "            modes.append(mode_intensity)\n",
    "            \n",
    "        avg_diffs = np.mean(diffs)\n",
    "        avg_means = np.mean(means)\n",
    "        avg_modes = np.mean(modes)\n",
    "            \n",
    "        return avg_diffs, avg_means, avg_modes\n",
    "        \n",
    "    # Get the first five frames and the last five frames\n",
    "    first_frames = [video[i] for i in range(num_frames_analysis)]\n",
    "    last_frames = [video[num_frames - 1 - i] for i in range(num_frames_analysis)]\n",
    "\n",
    "    if save_intermediates:\n",
    "        filename = os.path.join(name, 'IntensityDistribution.csv')\n",
    "        with open(filename, \"w\") as myfile:\n",
    "            csvwriter = csv.writer(myfile)\n",
    "            for frame_idx in range(0, num_frames_analysis, 1):\n",
    "                csvwriter.writerow(['Frame ' + str(frame_idx)])\n",
    "                frame_data = video[frame_idx]\n",
    "                frame_values, frame_counts = np.unique(frame_data, return_counts = True)\n",
    "                csvwriter.writerow(frame_values)\n",
    "                csvwriter.writerow(frame_counts)\n",
    "                csvwriter.writerow([])\n",
    "\n",
    "            for frame_idx in range(num_frames_analysis, 0, -1):\n",
    "                csvwriter.writerow(['Frame ' + str(num_frames - 1 - frame_idx)])\n",
    "                frame_data = video[num_frames - 1 - frame_idx]\n",
    "                frame_values, frame_counts = np.unique(frame_data, return_counts = True)\n",
    "                csvwriter.writerow(frame_values)\n",
    "                csvwriter.writerow(frame_counts)\n",
    "                csvwriter.writerow([])\n",
    "            \n",
    "        \n",
    "    # Calculate the average difference, mean, and mode for the first and last five frames for each channel\n",
    "    avg_diff_first, avg_means_first, avg_modes_first = get_mean_mode_diffs(first_frames)\n",
    "    avg_diff_last, avg_means_last, avg_modes_last = get_mean_mode_diffs(last_frames)\n",
    "        \n",
    "    # Calculate the percentage increase for each channel\n",
    "    percentage_increase = (avg_diff_last - avg_diff_first)/avg_diff_first * 100 if avg_diff_first != 0 else np.nan\n",
    "    \n",
    "    # Check if any channel meets the \"coarsening\" criteria\n",
    "    return percentage_increase\n",
    "\n",
    "def check_coarse(file, name, channel, first_frame, last_frame, frames_percent, save_intermediates, verbose):\n",
    "    print = functools.partial(builtins.print, flush=True)\n",
    "    vprint = print if verbose else lambda *a, **k: None\n",
    "    vprint('Beginning Coarsening Testing')\n",
    "    extrema_bounds_list = []\n",
    "    extrema_bounds_idx_list = []\n",
    "    areas_list = []\n",
    "    extrema_len_list = []\n",
    "    extrema_height_list = []\n",
    "\n",
    "    im = file[:,:,:,channel]\n",
    "\n",
    "    num_frames = im.shape[0]\n",
    "    num_frames_analysis = int(np.ceil(frames_percent * num_frames))\n",
    "\n",
    "    # Set last_frame to last frame of movie if unspecified\n",
    "\n",
    "    fig, ax = plt.subplots(figsize=(5,5))\n",
    "\n",
    "    if (im == 0).all(): # If image is blank, then end program early\n",
    "        return [None] * 6\n",
    "\n",
    "    max_px_intensity = 1.1*np.max(im)\n",
    "    min_px_intensity = np.min(im)\n",
    "    bins_width = 3\n",
    "    poly_deg = 40\n",
    "    poly_len = 10000\n",
    "    \n",
    "    near_zero_limit = 0.01\n",
    "    minimum_area = 0.010\n",
    "\n",
    "    \n",
    "    i_frames_data = np.array([im[i] for i in range(first_frame, first_frame+num_frames_analysis)])\n",
    "    if last_frame == False or last_frame >= len(im): \n",
    "        f_frames_data = np.array([im[num_frames - 1 - i] for i in range(num_frames_analysis)])\n",
    "\n",
    "    else:\n",
    "        f_frames_data = np.array([im[last_frame - 1 - i] for i in range(num_frames_analysis)])\n",
    "\n",
    "    i_kurt = kurtosis(i_frames_data.flatten())\n",
    "    f_kurt = kurtosis(f_frames_data.flatten())\n",
    "    i_skew = skew(i_frames_data.flatten())\n",
    "    f_skew = skew(f_frames_data.flatten())\n",
    "\n",
    "    kurt_diff = f_kurt - i_kurt\n",
    "    skew_diff = f_skew - i_skew\n",
    "\n",
    "    fig, ax = plt.subplots(figsize=(5,5))\n",
    "    set_bins = np.arange(0, max_px_intensity, bins_width)\n",
    "    bins_num = len(set_bins)\n",
    "    i_count, bins = np.histogram(i_frames_data.flatten(), bins=set_bins, density=True)\n",
    "    f_count, bins = np.histogram(f_frames_data.flatten(), bins=set_bins, density=True)\n",
    "    center_bins = (bins[1] - bins[0])/2\n",
    "    plt_bins = bins[0:-1] + center_bins\n",
    "    ax.plot(plt_bins, i_count, '^-', ms=4, c='darkred', alpha=0.2, label= \"frame \" + str(first_frame+1)+\" dist\")\n",
    "    ax.plot(plt_bins, f_count, 'v-', ms=4, c='darkorange',   alpha=0.2, label= \"frame \" + str(last_frame+1)+\" dist\")\n",
    "    \n",
    "    count_diff = f_count - i_count\n",
    "    ax.plot(plt_bins, count_diff, 'D-', ms=2, c='red', label = \"difference btwn\")\n",
    "    \n",
    "    # p_cutoff = 1e-5\n",
    "    # initial_spline = splrep(plt_bins, i_count, s = 0.00005)\n",
    "    # in_cutoff = np.max(np.where(BSpline(*initial_spline)(plt_bins) >= p_cutoff))\n",
    "    # ax.axvline(x = in_cutoff)\n",
    "    # minimum_area = 0.01 * float(BSpline.basis_element(initial_spline[0]).integrate(0, in_cutoff))\n",
    "\n",
    "    ax.plot(plt_bins, i_count, '^-', ms=4, c='darkred', alpha=0.2, label= \"frame \" + str(first_frame+1)+\" dist\")\n",
    "    ax.plot(plt_bins, f_count, 'v-', ms=4, c='darkorange',   alpha=0.2, label= \"frame \" + str(last_frame+1)+\" dist\")\n",
    "    count_diff = f_count - i_count\n",
    "    ax.plot(plt_bins, count_diff, 'D-', ms=2, c='red', label = \"difference btwn\")\n",
    "    # ax.plot(plt_bins, BSpline(*initial_spline)(plt_bins), c='magenta', label='initial_fit')\n",
    "    \n",
    "    \n",
    "    # ### get range for local extrema of interest ###\n",
    "\n",
    "    cumulative_count_diff = np.cumsum(count_diff)\n",
    "    filtered_ccd = scipy.ndimage.gaussian_filter1d(cumulative_count_diff, 8)\n",
    "    \n",
    "    peaks_max = signal.argrelextrema(filtered_ccd, np.greater, order = 20)\n",
    "    peaks_min = signal.argrelextrema(filtered_ccd, np.less, order = 20)\n",
    "    print(filtered_ccd[peaks_max])\n",
    "    if len(filtered_ccd[peaks_max]) == 0:\n",
    "        filtered_ccd[peaks_max] = np.array([0])\n",
    "        print(filtered_ccd[peaks_max])\n",
    "    print(filtered_ccd[peaks_min])\n",
    "    if len(filtered_ccd[peaks_min]) == 0:\n",
    "        filtered_ccd[peaks_min] = np.array([0])\n",
    "        print(filtered_ccd[peaks_min])\n",
    "    areas = np.append(np.abs(filtered_ccd[peaks_max][0]), np.abs(filtered_ccd[peaks_max][0] - filtered_ccd[peaks_min][0]))\n",
    "\n",
    "    perc_increase = analyze_frames(name, im, frames_percent, save_intermediates)\n",
    "\n",
    "    ax.axhline(0, color='dimgray', alpha=0.6)\n",
    "    ax.set_xlabel(\"Pixel intensity value\")\n",
    "    ax.set_ylabel(\"Probability\")\n",
    "    ax.set_xlim(0,max_px_intensity + 5)\n",
    "    ax.legend()\n",
    "    \n",
    "    return perc_increase, fig, areas[0], areas[1], kurt_diff, skew_diff"
   ]
  },
  {
   "cell_type": "code",
   "execution_count": 3,
   "id": "90c413d2-edce-4274-a68f-21c288e26026",
   "metadata": {},
   "outputs": [
    {
     "name": "stdout",
     "output_type": "stream",
     "text": [
      "/Users/adityasriram/Documents/htp-screening-home/Sample_Data/Nimisha-sample data.nd2\n"
     ]
    }
   ],
   "source": [
    "filepath = '/Users/adityasriram/Documents/htp-screening-home/Sample_Data/Nimisha-sample data.nd2'\n",
    "file = read_file(filepath)"
   ]
  },
  {
   "cell_type": "code",
   "execution_count": 9,
   "id": "2382429f-a679-4268-8d3f-3e10d02b84ec",
   "metadata": {},
   "outputs": [
    {
     "name": "stdout",
     "output_type": "stream",
     "text": [
      "[0.07193317]\n",
      "[]\n"
     ]
    },
    {
     "ename": "IndexError",
     "evalue": "index 0 is out of bounds for axis 0 with size 0",
     "output_type": "error",
     "traceback": [
      "\u001b[0;31m---------------------------------------------------------------------------\u001b[0m",
      "\u001b[0;31mIndexError\u001b[0m                                Traceback (most recent call last)",
      "Cell \u001b[0;32mIn[9], line 2\u001b[0m\n\u001b[1;32m      1\u001b[0m channel \u001b[38;5;241m=\u001b[39m \u001b[38;5;241m1\u001b[39m\n\u001b[0;32m----> 2\u001b[0m \u001b[43mcheck_coarse\u001b[49m\u001b[43m(\u001b[49m\u001b[43mfile\u001b[49m\u001b[43m,\u001b[49m\u001b[43m \u001b[49m\u001b[43mfilepath\u001b[49m\u001b[43m,\u001b[49m\u001b[43m \u001b[49m\u001b[43mchannel\u001b[49m\u001b[43m,\u001b[49m\u001b[43m \u001b[49m\u001b[38;5;241;43m1\u001b[39;49m\u001b[43m,\u001b[49m\u001b[43m \u001b[49m\u001b[38;5;28;43;01mFalse\u001b[39;49;00m\u001b[43m,\u001b[49m\u001b[43m \u001b[49m\u001b[38;5;241;43m0.10\u001b[39;49m\u001b[43m,\u001b[49m\u001b[43m \u001b[49m\u001b[38;5;28;43;01mFalse\u001b[39;49;00m\u001b[43m,\u001b[49m\u001b[43m \u001b[49m\u001b[38;5;28;43;01mFalse\u001b[39;49;00m\u001b[43m)\u001b[49m\n",
      "Cell \u001b[0;32mIn[8], line 159\u001b[0m, in \u001b[0;36mcheck_coarse\u001b[0;34m(file, name, channel, first_frame, last_frame, frames_percent, save_intermediates, verbose)\u001b[0m\n\u001b[1;32m    157\u001b[0m \u001b[38;5;28;01mif\u001b[39;00m \u001b[38;5;28mlen\u001b[39m(filtered_ccd[peaks_min]) \u001b[38;5;241m==\u001b[39m \u001b[38;5;241m0\u001b[39m:\n\u001b[1;32m    158\u001b[0m     filtered_ccd[peaks_min] \u001b[38;5;241m=\u001b[39m np\u001b[38;5;241m.\u001b[39marray([\u001b[38;5;241m0\u001b[39m])\n\u001b[0;32m--> 159\u001b[0m areas \u001b[38;5;241m=\u001b[39m np\u001b[38;5;241m.\u001b[39mappend(np\u001b[38;5;241m.\u001b[39mabs(filtered_ccd[peaks_max][\u001b[38;5;241m0\u001b[39m]), np\u001b[38;5;241m.\u001b[39mabs(filtered_ccd[peaks_max][\u001b[38;5;241m0\u001b[39m] \u001b[38;5;241m-\u001b[39m \u001b[43mfiltered_ccd\u001b[49m\u001b[43m[\u001b[49m\u001b[43mpeaks_min\u001b[49m\u001b[43m]\u001b[49m\u001b[43m[\u001b[49m\u001b[38;5;241;43m0\u001b[39;49m\u001b[43m]\u001b[49m))\n\u001b[1;32m    161\u001b[0m perc_increase \u001b[38;5;241m=\u001b[39m analyze_frames(name, im, frames_percent, save_intermediates)\n\u001b[1;32m    163\u001b[0m ax\u001b[38;5;241m.\u001b[39maxhline(\u001b[38;5;241m0\u001b[39m, color\u001b[38;5;241m=\u001b[39m\u001b[38;5;124m'\u001b[39m\u001b[38;5;124mdimgray\u001b[39m\u001b[38;5;124m'\u001b[39m, alpha\u001b[38;5;241m=\u001b[39m\u001b[38;5;241m0.6\u001b[39m)\n",
      "\u001b[0;31mIndexError\u001b[0m: index 0 is out of bounds for axis 0 with size 0"
     ]
    },
    {
     "data": {
      "image/png": "[encoded data removed]",
      "text/plain": [
       "<Figure size 500x500 with 1 Axes>"
      ]
     },
     "metadata": {},
     "output_type": "display_data"
    },
    {
     "data": {
      "image/png": "[encoded data removed]",
      "text/plain": [
       "<Figure size 500x500 with 1 Axes>"
      ]
     },
     "metadata": {},
     "output_type": "display_data"
    }
   ],
   "source": [
    "channel = 1\n",
    "check_coarse(file, filepath, channel, 1, False, 0.10, False, False)"
   ]
  },
  {
   "cell_type": "code",
   "execution_count": null,
   "id": "6273d29d-74cc-4346-bd71-a7ed4454075c",
   "metadata": {},
   "outputs": [],
   "source": []
  }
 ],
 "metadata": {
  "kernelspec": {
   "display_name": "Python 3 (ipykernel)",
   "language": "python",
   "name": "python3"
  },
  "language_info": {
   "codemirror_mode": {
    "name": "ipython",
    "version": 3
   },
   "file_extension": ".py",
   "mimetype": "text/x-python",
   "name": "python",
   "nbconvert_exporter": "python",
   "pygments_lexer": "ipython3",
   "version": "3.12.3"
  }
 },
 "nbformat": 4,
 "nbformat_minor": 5
}
